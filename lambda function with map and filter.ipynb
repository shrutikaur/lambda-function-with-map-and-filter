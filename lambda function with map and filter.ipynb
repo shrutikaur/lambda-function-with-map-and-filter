{
 "cells": [
  {
   "cell_type": "code",
   "execution_count": 1,
   "id": "576c0cbf",
   "metadata": {},
   "outputs": [
    {
     "data": {
      "text/plain": [
       "80"
      ]
     },
     "execution_count": 1,
     "metadata": {},
     "output_type": "execute_result"
    }
   ],
   "source": [
    "def mul_10(x):\n",
    "    return x*10\n",
    "mul_10(8)"
   ]
  },
  {
   "cell_type": "code",
   "execution_count": 6,
   "id": "a99701d4",
   "metadata": {},
   "outputs": [],
   "source": [
    "def odd_even(i):\n",
    "    if i%2==0:\n",
    "        print(i,\" is even\")\n",
    "    else:\n",
    "        print(i,\" is odd\")"
   ]
  },
  {
   "cell_type": "code",
   "execution_count": 7,
   "id": "146a975d",
   "metadata": {},
   "outputs": [
    {
     "name": "stdout",
     "output_type": "stream",
     "text": [
      "11  is odd\n"
     ]
    }
   ],
   "source": [
    "odd_even(11)"
   ]
  },
  {
   "cell_type": "code",
   "execution_count": 8,
   "id": "83b7c693",
   "metadata": {},
   "outputs": [
    {
     "data": {
      "text/plain": [
       "81"
      ]
     },
     "execution_count": 8,
     "metadata": {},
     "output_type": "execute_result"
    }
   ],
   "source": [
    "w = lambda x:x*x\n",
    "w(9)"
   ]
  },
  {
   "cell_type": "code",
   "execution_count": null,
   "id": "195d754e",
   "metadata": {},
   "outputs": [],
   "source": [
    "#lambda with filter"
   ]
  },
  {
   "cell_type": "code",
   "execution_count": 11,
   "id": "1aec10ed",
   "metadata": {},
   "outputs": [],
   "source": [
    "l1=[98,89,77,66,55,90,78]\n",
    "final_list=list(filter(lambda x:(x%2!=0),l1))"
   ]
  },
  {
   "cell_type": "code",
   "execution_count": 12,
   "id": "f28cdc14",
   "metadata": {},
   "outputs": [
    {
     "data": {
      "text/plain": [
       "[89, 77, 55]"
      ]
     },
     "execution_count": 12,
     "metadata": {},
     "output_type": "execute_result"
    }
   ],
   "source": [
    "final_list"
   ]
  },
  {
   "cell_type": "code",
   "execution_count": null,
   "id": "c1d1f1af",
   "metadata": {},
   "outputs": [],
   "source": [
    "#lambda with map"
   ]
  },
  {
   "cell_type": "code",
   "execution_count": 17,
   "id": "e0e30db0",
   "metadata": {},
   "outputs": [],
   "source": [
    "l1=[9,8,7,6,5,4,3,2,1]\n",
    "final_list_new=list(map(lambda x: x*2,l1))"
   ]
  },
  {
   "cell_type": "code",
   "execution_count": 18,
   "id": "b4d0f081",
   "metadata": {},
   "outputs": [
    {
     "data": {
      "text/plain": [
       "[18, 16, 14, 12, 10, 8, 6, 4, 2]"
      ]
     },
     "execution_count": 18,
     "metadata": {},
     "output_type": "execute_result"
    }
   ],
   "source": [
    "final_list_new"
   ]
  },
  {
   "cell_type": "code",
   "execution_count": null,
   "id": "9e62f7ae",
   "metadata": {},
   "outputs": [],
   "source": []
  }
 ],
 "metadata": {
  "kernelspec": {
   "display_name": "Python 3 (ipykernel)",
   "language": "python",
   "name": "python3"
  },
  "language_info": {
   "codemirror_mode": {
    "name": "ipython",
    "version": 3
   },
   "file_extension": ".py",
   "mimetype": "text/x-python",
   "name": "python",
   "nbconvert_exporter": "python",
   "pygments_lexer": "ipython3",
   "version": "3.9.12"
  }
 },
 "nbformat": 4,
 "nbformat_minor": 5
}
